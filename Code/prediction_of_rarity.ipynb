{
  "nbformat": 4,
  "nbformat_minor": 0,
  "metadata": {
    "colab": {
      "provenance": []
    },
    "kernelspec": {
      "name": "python3",
      "display_name": "Python 3"
    },
    "language_info": {
      "name": "python"
    }
  },
  "cells": [
    {
      "cell_type": "code",
      "source": [
        "import numpy as np\n",
        "import pandas as pd\n",
        "import seaborn as sb\n",
        "import matplotlib.pyplot as plt\n",
        "\n",
        "from sklearn.preprocessing import StandardScaler, PolynomialFeatures\n",
        "from sklearn.model_selection import train_test_split\n",
        "from sklearn import linear_model"
      ],
      "metadata": {
        "id": "-9fwoHbW74a6"
      },
      "execution_count": 19,
      "outputs": []
    },
    {
      "cell_type": "code",
      "source": [
        "from google.colab import drive\n",
        "drive.mount('/content/drive')"
      ],
      "metadata": {
        "colab": {
          "base_uri": "https://localhost:8080/"
        },
        "id": "X_P3cmUpp1CX",
        "outputId": "4905a18f-bbaa-4e79-a65c-f1eee101b89e"
      },
      "execution_count": 20,
      "outputs": [
        {
          "output_type": "stream",
          "name": "stdout",
          "text": [
            "Drive already mounted at /content/drive; to attempt to forcibly remount, call drive.mount(\"/content/drive\", force_remount=True).\n"
          ]
        }
      ]
    },
    {
      "cell_type": "code",
      "source": [
        "path= '/content/drive/MyDrive/dataset/genshin.csv'\n",
        "df= pd.read_csv(path)\n",
        "df.head()"
      ],
      "metadata": {
        "colab": {
          "base_uri": "https://localhost:8080/",
          "height": 300
        },
        "id": "AFSy-4MHp2bd",
        "outputId": "13a02966-4c0a-4d00-e475-d666e37db1d6"
      },
      "execution_count": 21,
      "outputs": [
        {
          "output_type": "execute_result",
          "data": {
            "text/plain": [
              "   character_id  playable  rarity  vision  region  weapon_type  hp_90_90  \\\n",
              "0             1         1       5       1       1            1     13226   \n",
              "1             2         1       5       2       0            2     10899   \n",
              "2             3         1       4       3       1            2      9461   \n",
              "3             4         1       5       1       2            3     12858   \n",
              "4             5         1       4       4       1            4      9787   \n",
              "\n",
              "   atk_90_90  def_90_90  hp_80_90  ...  def_40_40  hp_20_40  atk_20_40  \\\n",
              "0        251        876     12296  ...        352      3554         68   \n",
              "1        234        676     10133  ...        272      2928         63   \n",
              "2        223        601      8806  ...        250      2630         62   \n",
              "3        227        959     11954  ...        386      3455         61   \n",
              "4        159        669      9110  ...        279      2721         44   \n",
              "\n",
              "   def_20_40  hp_20_20  atk_20_20  def_20_20  hp_1_20  atk_1_20  def_1_20  \n",
              "0        235      2671         51        177     1030        20        68  \n",
              "1        182      2201         47        137      848        18        53  \n",
              "2        167      2038         48        129      793        19        50  \n",
              "3        258      2597         46        194     1001        18        75  \n",
              "4        186      2108         34        144      821        13        56  \n",
              "\n",
              "[5 rows x 48 columns]"
            ],
            "text/html": [
              "\n",
              "  <div id=\"df-3a60f726-6ce0-4ee2-88e3-057bb60aa7b5\">\n",
              "    <div class=\"colab-df-container\">\n",
              "      <div>\n",
              "<style scoped>\n",
              "    .dataframe tbody tr th:only-of-type {\n",
              "        vertical-align: middle;\n",
              "    }\n",
              "\n",
              "    .dataframe tbody tr th {\n",
              "        vertical-align: top;\n",
              "    }\n",
              "\n",
              "    .dataframe thead th {\n",
              "        text-align: right;\n",
              "    }\n",
              "</style>\n",
              "<table border=\"1\" class=\"dataframe\">\n",
              "  <thead>\n",
              "    <tr style=\"text-align: right;\">\n",
              "      <th></th>\n",
              "      <th>character_id</th>\n",
              "      <th>playable</th>\n",
              "      <th>rarity</th>\n",
              "      <th>vision</th>\n",
              "      <th>region</th>\n",
              "      <th>weapon_type</th>\n",
              "      <th>hp_90_90</th>\n",
              "      <th>atk_90_90</th>\n",
              "      <th>def_90_90</th>\n",
              "      <th>hp_80_90</th>\n",
              "      <th>...</th>\n",
              "      <th>def_40_40</th>\n",
              "      <th>hp_20_40</th>\n",
              "      <th>atk_20_40</th>\n",
              "      <th>def_20_40</th>\n",
              "      <th>hp_20_20</th>\n",
              "      <th>atk_20_20</th>\n",
              "      <th>def_20_20</th>\n",
              "      <th>hp_1_20</th>\n",
              "      <th>atk_1_20</th>\n",
              "      <th>def_1_20</th>\n",
              "    </tr>\n",
              "  </thead>\n",
              "  <tbody>\n",
              "    <tr>\n",
              "      <th>0</th>\n",
              "      <td>1</td>\n",
              "      <td>1</td>\n",
              "      <td>5</td>\n",
              "      <td>1</td>\n",
              "      <td>1</td>\n",
              "      <td>1</td>\n",
              "      <td>13226</td>\n",
              "      <td>251</td>\n",
              "      <td>876</td>\n",
              "      <td>12296</td>\n",
              "      <td>...</td>\n",
              "      <td>352</td>\n",
              "      <td>3554</td>\n",
              "      <td>68</td>\n",
              "      <td>235</td>\n",
              "      <td>2671</td>\n",
              "      <td>51</td>\n",
              "      <td>177</td>\n",
              "      <td>1030</td>\n",
              "      <td>20</td>\n",
              "      <td>68</td>\n",
              "    </tr>\n",
              "    <tr>\n",
              "      <th>1</th>\n",
              "      <td>2</td>\n",
              "      <td>1</td>\n",
              "      <td>5</td>\n",
              "      <td>2</td>\n",
              "      <td>0</td>\n",
              "      <td>2</td>\n",
              "      <td>10899</td>\n",
              "      <td>234</td>\n",
              "      <td>676</td>\n",
              "      <td>10133</td>\n",
              "      <td>...</td>\n",
              "      <td>272</td>\n",
              "      <td>2928</td>\n",
              "      <td>63</td>\n",
              "      <td>182</td>\n",
              "      <td>2201</td>\n",
              "      <td>47</td>\n",
              "      <td>137</td>\n",
              "      <td>848</td>\n",
              "      <td>18</td>\n",
              "      <td>53</td>\n",
              "    </tr>\n",
              "    <tr>\n",
              "      <th>2</th>\n",
              "      <td>3</td>\n",
              "      <td>1</td>\n",
              "      <td>4</td>\n",
              "      <td>3</td>\n",
              "      <td>1</td>\n",
              "      <td>2</td>\n",
              "      <td>9461</td>\n",
              "      <td>223</td>\n",
              "      <td>601</td>\n",
              "      <td>8806</td>\n",
              "      <td>...</td>\n",
              "      <td>250</td>\n",
              "      <td>2630</td>\n",
              "      <td>62</td>\n",
              "      <td>167</td>\n",
              "      <td>2038</td>\n",
              "      <td>48</td>\n",
              "      <td>129</td>\n",
              "      <td>793</td>\n",
              "      <td>19</td>\n",
              "      <td>50</td>\n",
              "    </tr>\n",
              "    <tr>\n",
              "      <th>3</th>\n",
              "      <td>4</td>\n",
              "      <td>1</td>\n",
              "      <td>5</td>\n",
              "      <td>1</td>\n",
              "      <td>2</td>\n",
              "      <td>3</td>\n",
              "      <td>12858</td>\n",
              "      <td>227</td>\n",
              "      <td>959</td>\n",
              "      <td>11954</td>\n",
              "      <td>...</td>\n",
              "      <td>386</td>\n",
              "      <td>3455</td>\n",
              "      <td>61</td>\n",
              "      <td>258</td>\n",
              "      <td>2597</td>\n",
              "      <td>46</td>\n",
              "      <td>194</td>\n",
              "      <td>1001</td>\n",
              "      <td>18</td>\n",
              "      <td>75</td>\n",
              "    </tr>\n",
              "    <tr>\n",
              "      <th>4</th>\n",
              "      <td>5</td>\n",
              "      <td>1</td>\n",
              "      <td>4</td>\n",
              "      <td>4</td>\n",
              "      <td>1</td>\n",
              "      <td>4</td>\n",
              "      <td>9787</td>\n",
              "      <td>159</td>\n",
              "      <td>669</td>\n",
              "      <td>9110</td>\n",
              "      <td>...</td>\n",
              "      <td>279</td>\n",
              "      <td>2721</td>\n",
              "      <td>44</td>\n",
              "      <td>186</td>\n",
              "      <td>2108</td>\n",
              "      <td>34</td>\n",
              "      <td>144</td>\n",
              "      <td>821</td>\n",
              "      <td>13</td>\n",
              "      <td>56</td>\n",
              "    </tr>\n",
              "  </tbody>\n",
              "</table>\n",
              "<p>5 rows × 48 columns</p>\n",
              "</div>\n",
              "      <button class=\"colab-df-convert\" onclick=\"convertToInteractive('df-3a60f726-6ce0-4ee2-88e3-057bb60aa7b5')\"\n",
              "              title=\"Convert this dataframe to an interactive table.\"\n",
              "              style=\"display:none;\">\n",
              "        \n",
              "  <svg xmlns=\"http://www.w3.org/2000/svg\" height=\"24px\"viewBox=\"0 0 24 24\"\n",
              "       width=\"24px\">\n",
              "    <path d=\"M0 0h24v24H0V0z\" fill=\"none\"/>\n",
              "    <path d=\"M18.56 5.44l.94 2.06.94-2.06 2.06-.94-2.06-.94-.94-2.06-.94 2.06-2.06.94zm-11 1L8.5 8.5l.94-2.06 2.06-.94-2.06-.94L8.5 2.5l-.94 2.06-2.06.94zm10 10l.94 2.06.94-2.06 2.06-.94-2.06-.94-.94-2.06-.94 2.06-2.06.94z\"/><path d=\"M17.41 7.96l-1.37-1.37c-.4-.4-.92-.59-1.43-.59-.52 0-1.04.2-1.43.59L10.3 9.45l-7.72 7.72c-.78.78-.78 2.05 0 2.83L4 21.41c.39.39.9.59 1.41.59.51 0 1.02-.2 1.41-.59l7.78-7.78 2.81-2.81c.8-.78.8-2.07 0-2.86zM5.41 20L4 18.59l7.72-7.72 1.47 1.35L5.41 20z\"/>\n",
              "  </svg>\n",
              "      </button>\n",
              "      \n",
              "  <style>\n",
              "    .colab-df-container {\n",
              "      display:flex;\n",
              "      flex-wrap:wrap;\n",
              "      gap: 12px;\n",
              "    }\n",
              "\n",
              "    .colab-df-convert {\n",
              "      background-color: #E8F0FE;\n",
              "      border: none;\n",
              "      border-radius: 50%;\n",
              "      cursor: pointer;\n",
              "      display: none;\n",
              "      fill: #1967D2;\n",
              "      height: 32px;\n",
              "      padding: 0 0 0 0;\n",
              "      width: 32px;\n",
              "    }\n",
              "\n",
              "    .colab-df-convert:hover {\n",
              "      background-color: #E2EBFA;\n",
              "      box-shadow: 0px 1px 2px rgba(60, 64, 67, 0.3), 0px 1px 3px 1px rgba(60, 64, 67, 0.15);\n",
              "      fill: #174EA6;\n",
              "    }\n",
              "\n",
              "    [theme=dark] .colab-df-convert {\n",
              "      background-color: #3B4455;\n",
              "      fill: #D2E3FC;\n",
              "    }\n",
              "\n",
              "    [theme=dark] .colab-df-convert:hover {\n",
              "      background-color: #434B5C;\n",
              "      box-shadow: 0px 1px 3px 1px rgba(0, 0, 0, 0.15);\n",
              "      filter: drop-shadow(0px 1px 2px rgba(0, 0, 0, 0.3));\n",
              "      fill: #FFFFFF;\n",
              "    }\n",
              "  </style>\n",
              "\n",
              "      <script>\n",
              "        const buttonEl =\n",
              "          document.querySelector('#df-3a60f726-6ce0-4ee2-88e3-057bb60aa7b5 button.colab-df-convert');\n",
              "        buttonEl.style.display =\n",
              "          google.colab.kernel.accessAllowed ? 'block' : 'none';\n",
              "\n",
              "        async function convertToInteractive(key) {\n",
              "          const element = document.querySelector('#df-3a60f726-6ce0-4ee2-88e3-057bb60aa7b5');\n",
              "          const dataTable =\n",
              "            await google.colab.kernel.invokeFunction('convertToInteractive',\n",
              "                                                     [key], {});\n",
              "          if (!dataTable) return;\n",
              "\n",
              "          const docLinkHtml = 'Like what you see? Visit the ' +\n",
              "            '<a target=\"_blank\" href=https://colab.research.google.com/notebooks/data_table.ipynb>data table notebook</a>'\n",
              "            + ' to learn more about interactive tables.';\n",
              "          element.innerHTML = '';\n",
              "          dataTable['output_type'] = 'display_data';\n",
              "          await google.colab.output.renderOutput(dataTable, element);\n",
              "          const docLink = document.createElement('div');\n",
              "          docLink.innerHTML = docLinkHtml;\n",
              "          element.appendChild(docLink);\n",
              "        }\n",
              "      </script>\n",
              "    </div>\n",
              "  </div>\n",
              "  "
            ]
          },
          "metadata": {},
          "execution_count": 21
        }
      ]
    },
    {
      "cell_type": "markdown",
      "source": [
        " **Construction of the features dataframe for the regression model**"
      ],
      "metadata": {
        "id": "VZBExyatEeq7"
      }
    },
    {
      "cell_type": "code",
      "source": [
        "columns= ['character_id', 'playable', 'vision', 'region', 'weapon_type',\n",
        "       'hp_90_90', 'atk_90_90', 'def_90_90', 'hp_80_90', 'atk_80_90',\n",
        "       'def_80_90', 'hp_80_80', 'atk_80_80', 'def_80_80', 'hp_70_80',\n",
        "       'atk_70_80', 'def_70_80', 'hp_70_70', 'atk_70_70', 'def_70_70',\n",
        "       'hp_60_70', 'atk_60_70', 'def_60_70', 'hp_60_60', 'atk_60_60',\n",
        "       'def_60_60', 'hp_50_60', 'atk_50_60', 'def_50_60', 'hp_50_50',\n",
        "       'atk_50_50', 'def_50_50', 'hp_40_50', 'atk_40_50', 'def_40_50',\n",
        "       'hp_40_40', 'atk_40_40', 'def_40_40', 'hp_20_40', 'atk_20_40',\n",
        "       'def_20_40', 'hp_20_20', 'atk_20_20', 'def_20_20', 'hp_1_20',\n",
        "       'atk_1_20', 'def_1_20']\n",
        "\n",
        "data_x = df[columns].copy()\n",
        "data_y = df['rarity'].copy()"
      ],
      "metadata": {
        "id": "zIE226mJ7bIW"
      },
      "execution_count": 22,
      "outputs": []
    },
    {
      "cell_type": "code",
      "source": [
        "data= PolynomialFeatures(2,include_bias=False)\n",
        "data_x= data.fit_transform(data_x)"
      ],
      "metadata": {
        "id": "E4E5GI7t7inf"
      },
      "execution_count": 23,
      "outputs": []
    },
    {
      "cell_type": "markdown",
      "source": [
        "**Train/Test data split**"
      ],
      "metadata": {
        "id": "RZMzFwZLEkTT"
      }
    },
    {
      "cell_type": "code",
      "source": [
        "train_x, test_x,train_y,test_y = train_test_split( data_x, data_y, test_size=0.2, shuffle=True, random_state=42)\n",
        "display((train_x.shape,train_y.shape))"
      ],
      "metadata": {
        "colab": {
          "base_uri": "https://localhost:8080/",
          "height": 34
        },
        "id": "FQdPxBaW7l51",
        "outputId": "62897d62-17c6-448f-d2a7-c217dae31d86"
      },
      "execution_count": 24,
      "outputs": [
        {
          "output_type": "display_data",
          "data": {
            "text/plain": [
              "((41, 1175), (41,))"
            ]
          },
          "metadata": {}
        }
      ]
    },
    {
      "cell_type": "code",
      "source": [
        "x = df[columns].copy()\n",
        "x = data.fit_transform(x)\n",
        "y = np.array(df['rarity'].copy()).flatten()\n",
        "regression = linear_model.LinearRegression()\n",
        "regression.fit(train_x, train_y)\n",
        "pred = regression.predict(x)\n",
        "predicted = np.round(regression.predict(x)).astype(int)"
      ],
      "metadata": {
        "id": "WnpCiB8F7oyV"
      },
      "execution_count": 25,
      "outputs": []
    },
    {
      "cell_type": "code",
      "source": [
        "def get_rarity(df,columns):\n",
        "    char= df.sample(1)\n",
        "    charx = char[columns].copy()\n",
        "    charx= data.fit_transform(charx)\n",
        "    chary = np.array(char['rarity'].copy())\n",
        "    return charx,chary"
      ],
      "metadata": {
        "id": "JjAStWVA7vOF"
      },
      "execution_count": 27,
      "outputs": []
    },
    {
      "cell_type": "markdown",
      "source": [
        "**Predicting the overall rarity**"
      ],
      "metadata": {
        "id": "2EzTa-WyEr07"
      }
    },
    {
      "cell_type": "code",
      "source": [
        "charx,chary = get_rarity(df, columns)\n",
        "estimated = regression.predict(charx)\n",
        "print('Actual value=',int(chary), 'Predicted value=', int(np.round(estimated)))"
      ],
      "metadata": {
        "colab": {
          "base_uri": "https://localhost:8080/"
        },
        "id": "h7rgfraV7xtT",
        "outputId": "efe57702-60ed-45bf-bfa9-d217a8f0abff"
      },
      "execution_count": 28,
      "outputs": [
        {
          "output_type": "stream",
          "name": "stdout",
          "text": [
            "Actual value= 4 Predicted value= 4\n"
          ]
        }
      ]
    },
    {
      "cell_type": "code",
      "source": [
        "plt.figure(figsize=(5,5))\n",
        "sb.scatterplot(predicted, y, alpha=0.15)\n",
        "plt.plot(y, y, color='g', alpha=0.5)\n",
        "plt.xlabel('Prediction')\n",
        "plt.ylabel('Actual');"
      ],
      "metadata": {
        "colab": {
          "base_uri": "https://localhost:8080/",
          "height": 389
        },
        "id": "AMruZCmZ70I_",
        "outputId": "cb2b0365-0d2d-43e1-9deb-807ed4ed937a"
      },
      "execution_count": 29,
      "outputs": [
        {
          "output_type": "stream",
          "name": "stderr",
          "text": [
            "/usr/local/lib/python3.7/dist-packages/seaborn/_decorators.py:43: FutureWarning: Pass the following variables as keyword args: x, y. From version 0.12, the only valid positional argument will be `data`, and passing other arguments without an explicit keyword will result in an error or misinterpretation.\n",
            "  FutureWarning\n"
          ]
        },
        {
          "output_type": "display_data",
          "data": {
            "text/plain": [
              "<Figure size 360x360 with 1 Axes>"
            ],
            "image/png": "[encoded data removed]"
          },
          "metadata": {
            "needs_background": "light"
          }
        }
      ]
    }
  ]
}